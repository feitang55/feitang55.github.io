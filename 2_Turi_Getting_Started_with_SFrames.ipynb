{
  "nbformat": 4,
  "nbformat_minor": 0,
  "metadata": {
    "kernelspec": {
      "display_name": "Python 3",
      "language": "python",
      "name": "python3"
    },
    "language_info": {
      "codemirror_mode": {
        "name": "ipython",
        "version": 3
      },
      "file_extension": ".py",
      "mimetype": "text/x-python",
      "name": "python",
      "nbconvert_exporter": "python",
      "pygments_lexer": "ipython3",
      "version": "3.5.2"
    },
    "colab": {
      "name": "2 Turi Getting Started with SFrames.ipynb",
      "provenance": [],
      "collapsed_sections": [],
      "include_colab_link": true
    }
  },
  "cells": [
    {
      "cell_type": "markdown",
      "metadata": {
        "id": "view-in-github",
        "colab_type": "text"
      },
      "source": [
        "<a href=\"https://colab.research.google.com/github/feitang55/feitang55.github.io/blob/main/2_Turi_Getting_Started_with_SFrames.ipynb\" target=\"_parent\"><img src=\"https://colab.research.google.com/assets/colab-badge.svg\" alt=\"Open In Colab\"/></a>"
      ]
    },
    {
      "cell_type": "code",
      "metadata": {
        "id": "19G-pouPAZcR"
      },
      "source": [
        "!pip install turicreate"
      ],
      "execution_count": null,
      "outputs": []
    },
    {
      "cell_type": "code",
      "metadata": {
        "id": "XiyMyIG2Ab92"
      },
      "source": [
        "from google.colab import drive\n",
        "drive.mount('/content/gdrive')"
      ],
      "execution_count": null,
      "outputs": []
    },
    {
      "cell_type": "markdown",
      "metadata": {
        "id": "wtfMb4nHAYUF"
      },
      "source": [
        "# Fire up Turi Create\n",
        "\n",
        "We always start with this line before using any part of Turi Create"
      ]
    },
    {
      "cell_type": "code",
      "metadata": {
        "id": "DA-6cPcXAYUH"
      },
      "source": [
        "import turicreate"
      ],
      "execution_count": null,
      "outputs": []
    },
    {
      "cell_type": "markdown",
      "metadata": {
        "id": "U5aiNTuJAYUL"
      },
      "source": [
        "# Load a tabular data set"
      ]
    },
    {
      "cell_type": "code",
      "metadata": {
        "id": "JxfJspfXAYUM"
      },
      "source": [
        "sf = turicreate.SFrame('/content/gdrive/My Drive/Turicreate/Week 1/people-example.csv')"
      ],
      "execution_count": null,
      "outputs": []
    },
    {
      "cell_type": "markdown",
      "metadata": {
        "id": "R-sgFVqTAYUP"
      },
      "source": [
        "# SFrame basics"
      ]
    },
    {
      "cell_type": "code",
      "metadata": {
        "id": "YqXi69jZAYUP"
      },
      "source": [
        "sf #we can view first few lines of table"
      ],
      "execution_count": null,
      "outputs": []
    },
    {
      "cell_type": "code",
      "metadata": {
        "id": "DtdRqEAwAYUT"
      },
      "source": [
        "sf.tail()  # view end of the table"
      ],
      "execution_count": null,
      "outputs": []
    },
    {
      "cell_type": "markdown",
      "metadata": {
        "id": "XUDo57swAYUW"
      },
      "source": [
        "# Turi Create visualization"
      ]
    },
    {
      "cell_type": "code",
      "metadata": {
        "id": "jK_jf2fPAYUX"
      },
      "source": [
        "# .show() visualizes any data structure in Turi Create\n",
        "sf.show()"
      ],
      "execution_count": null,
      "outputs": []
    },
    {
      "cell_type": "code",
      "metadata": {
        "id": "rGdzPdgVAYUa"
      },
      "source": [
        "sf['age'].show()"
      ],
      "execution_count": null,
      "outputs": []
    },
    {
      "cell_type": "markdown",
      "metadata": {
        "id": "obEobYDqAYUd"
      },
      "source": [
        "# Inspect columns of dataset"
      ]
    },
    {
      "cell_type": "code",
      "metadata": {
        "id": "BgdqBDXsAYUe"
      },
      "source": [
        "sf['Country']"
      ],
      "execution_count": null,
      "outputs": []
    },
    {
      "cell_type": "code",
      "metadata": {
        "id": "_8-oWVF0AYUh"
      },
      "source": [
        "sf['age']"
      ],
      "execution_count": null,
      "outputs": []
    },
    {
      "cell_type": "markdown",
      "metadata": {
        "id": "HffiL2wkAYUk"
      },
      "source": [
        "Some simple columnar operations"
      ]
    },
    {
      "cell_type": "code",
      "metadata": {
        "id": "wQBAbzo0AYUl"
      },
      "source": [
        "sf['age'].mean()"
      ],
      "execution_count": null,
      "outputs": []
    },
    {
      "cell_type": "code",
      "metadata": {
        "id": "CslG4ilSAYUo"
      },
      "source": [
        "sf['age'].max()"
      ],
      "execution_count": null,
      "outputs": []
    },
    {
      "cell_type": "markdown",
      "metadata": {
        "id": "9bR-vAyeAYUq"
      },
      "source": [
        "# Create new columns in our SFrame"
      ]
    },
    {
      "cell_type": "code",
      "metadata": {
        "id": "E2H-kZNfAYUs"
      },
      "source": [
        "sf"
      ],
      "execution_count": null,
      "outputs": []
    },
    {
      "cell_type": "code",
      "metadata": {
        "id": "0t-sxFujAYUu"
      },
      "source": [
        "sf['Full Name'] = sf['First Name'] + ' ' + sf['Last Name']"
      ],
      "execution_count": null,
      "outputs": []
    },
    {
      "cell_type": "code",
      "metadata": {
        "id": "3T_b1gTxAYUx"
      },
      "source": [
        "sf"
      ],
      "execution_count": null,
      "outputs": []
    },
    {
      "cell_type": "code",
      "metadata": {
        "id": "Mch6xlG-AYU0"
      },
      "source": [
        "sf['age'] * sf['age']"
      ],
      "execution_count": null,
      "outputs": []
    },
    {
      "cell_type": "markdown",
      "metadata": {
        "id": "jFQjC-4YAYU4"
      },
      "source": [
        "# Use the apply function to do a advance transformation of our data"
      ]
    },
    {
      "cell_type": "code",
      "metadata": {
        "id": "P5JP20jYAYU5"
      },
      "source": [
        "sf['Country']"
      ],
      "execution_count": null,
      "outputs": []
    },
    {
      "cell_type": "code",
      "metadata": {
        "id": "GuAzMHI3AYU8"
      },
      "source": [
        "sf['Country'].show()"
      ],
      "execution_count": null,
      "outputs": []
    },
    {
      "cell_type": "code",
      "metadata": {
        "id": "YJ_5q5XMAYU-"
      },
      "source": [
        "def transform_country(country):\n",
        "    if country == 'USA':\n",
        "        return 'United States'\n",
        "    else:\n",
        "        return country"
      ],
      "execution_count": null,
      "outputs": []
    },
    {
      "cell_type": "code",
      "metadata": {
        "id": "1pxYQ_RyAYVC"
      },
      "source": [
        "transform_country('Brazil')"
      ],
      "execution_count": null,
      "outputs": []
    },
    {
      "cell_type": "code",
      "metadata": {
        "id": "GTn1MuA2AYVE"
      },
      "source": [
        "transform_country('Brasil')"
      ],
      "execution_count": null,
      "outputs": []
    },
    {
      "cell_type": "code",
      "metadata": {
        "id": "TjKh3ebnAYVH"
      },
      "source": [
        "transform_country('USA')"
      ],
      "execution_count": null,
      "outputs": []
    },
    {
      "cell_type": "code",
      "metadata": {
        "id": "oLswQ0PrAYVR"
      },
      "source": [
        "sf['Country'].apply(transform_country)"
      ],
      "execution_count": null,
      "outputs": []
    },
    {
      "cell_type": "code",
      "metadata": {
        "id": "ggYdA45AAYVV"
      },
      "source": [
        "sf['Country'] = sf['Country'].apply(transform_country)"
      ],
      "execution_count": null,
      "outputs": []
    },
    {
      "cell_type": "code",
      "metadata": {
        "id": "m7wyyrAuAYVZ"
      },
      "source": [
        "sf"
      ],
      "execution_count": null,
      "outputs": []
    },
    {
      "cell_type": "code",
      "metadata": {
        "id": "GZwdV8tkAYVc"
      },
      "source": [
        "sf = turicreate.SFrame('/content/gdrive/My Drive/Turicreate/Week 1/people_wiki.sframe')"
      ],
      "execution_count": null,
      "outputs": []
    },
    {
      "cell_type": "code",
      "metadata": {
        "id": "Lrta58cUDHHu"
      },
      "source": [
        "sf"
      ],
      "execution_count": null,
      "outputs": []
    }
  ]
}